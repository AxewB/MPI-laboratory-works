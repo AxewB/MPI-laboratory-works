{
 "cells": [
  {
   "cell_type": "code",
   "execution_count": null,
   "metadata": {},
   "outputs": [],
   "source": [
    "import subprocess\n",
    "\n",
    "# Списки значений для параметров\n",
    "n_values = [1, 2, 4, 6, 8, 10, 12, 14, 16]  # Пример значений для -n\n",
    "size_values = [10, 100, 500, 1000, 2000, 5000, 10000, 15000, 20000, 50000, 75000, 100000]  # Пример значений для --size\n",
    "n_runs = 20\n",
    "\n",
    "# n_values = [1, 2, 4]\n",
    "# size_values = [100, 1000]\n",
    "# n_runs = 1\n",
    "# Проход по всем комбинациям значений\n",
    "for n in n_values:\n",
    "\tfor size in size_values:\n",
    "\t\tfor tiems in range(n_runs):\n",
    "\t\t\tcommand = [\n",
    "\t\t\t\t\"mpiexec\", \n",
    "\t\t\t\t\"-n\", str(n), \n",
    "\t\t\t\t\"main\", \n",
    "\t\t\t\t\"--random\", \n",
    "\t\t\t\t\"--size\", str(size),\n",
    "\t\t\t\t\"--output\"\n",
    "\t\t\t]\n",
    "\n",
    "\t\t\tprint(f\"Запуск команды: {' '.join(command)}\")\n",
    "\t\t\tresult = subprocess.run(command, capture_output=True, text=True)\n",
    "\t\t\t\n",
    "\t\t\t# Вывод результата выполнения команды\n",
    "\t\t\tprint(f\"Результат:\\n{result.stdout}\")\n",
    "\t\t\tif result.stderr:\n",
    "\t\t\t\t\tprint(f\"Ошибки:\\n{result.stderr}\")\n",
    "\n",
    "\t\t\tprint(\"\\n=== === === === === ===\\n\")\n",
    "\t\t\t"
   ]
  },
  {
   "cell_type": "code",
   "execution_count": null,
   "metadata": {},
   "outputs": [],
   "source": []
  }
 ],
 "metadata": {
  "kernelspec": {
   "display_name": "Python 3",
   "language": "python",
   "name": "python3"
  },
  "language_info": {
   "codemirror_mode": {
    "name": "ipython",
    "version": 3
   },
   "file_extension": ".py",
   "mimetype": "text/x-python",
   "name": "python",
   "nbconvert_exporter": "python",
   "pygments_lexer": "ipython3",
   "version": "3.12.6"
  }
 },
 "nbformat": 4,
 "nbformat_minor": 2
}
